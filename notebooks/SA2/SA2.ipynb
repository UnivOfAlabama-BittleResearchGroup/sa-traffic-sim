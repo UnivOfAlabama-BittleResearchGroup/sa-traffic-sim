{
 "cells": [
  {
   "cell_type": "code",
   "execution_count": null,
   "metadata": {},
   "outputs": [],
   "source": [
    "%load_ext autoreload\n",
    "%autoreload 2"
   ]
  },
  {
   "cell_type": "markdown",
   "metadata": {},
   "source": [
    "# Processing Sensitivity Analysis Outputs"
   ]
  },
  {
   "cell_type": "code",
   "execution_count": null,
   "metadata": {},
   "outputs": [],
   "source": [
    "import os\n",
    "from pathlib import Path\n",
    "\n",
    "\n",
    "ROOT = Path(os.getcwd()).parent\n",
    "while not ROOT.joinpath(\".git\").exists():\n",
    "    ROOT = ROOT.parent\n",
    "\n",
    "# add the root to the python path\n",
    "import sys\n",
    "import dotenv\n",
    "from omegaconf import OmegaConf\n",
    "\n",
    "sys.path.append(str(ROOT))\n",
    "\n",
    "# load the environment variables\n",
    "dotenv.load_dotenv(ROOT.joinpath(\".env\"))"
   ]
  },
  {
   "cell_type": "code",
   "execution_count": null,
   "metadata": {},
   "outputs": [],
   "source": [
    "import polars as pl\n",
    "\n",
    "from sumo_pipelines.utils.config_helpers import (\n",
    "    create_custom_resolvers,\n",
    ")\n",
    "from sumo_pipelines.utils.file_helpers import walk_directory\n",
    "\n",
    "create_custom_resolvers()"
   ]
  },
  {
   "cell_type": "markdown",
   "metadata": {},
   "source": [
    "## Load the Data"
   ]
  },
  {
   "cell_type": "code",
   "execution_count": null,
   "metadata": {},
   "outputs": [],
   "source": [
    "experiment_root = (\n",
    "    ROOT / \"tmp/SobolSensitivityAnalysisCarsTrucks-1024/11.28.2023_15.57.14\"\n",
    ")"
   ]
  },
  {
   "cell_type": "markdown",
   "metadata": {},
   "source": [
    "### Build A Dataframe from Results"
   ]
  },
  {
   "cell_type": "code",
   "execution_count": null,
   "metadata": {},
   "outputs": [],
   "source": [
    "results_df_path = experiment_root / \"results.parquet\"\n",
    "\n",
    "if not results_df_path.exists():\n",
    "    confs = list(\n",
    "        walk_directory(\n",
    "            experiment_root,\n",
    "        )\n",
    "    )\n",
    "    confs.sort(key=lambda x: int(x.Metadata.run_id))\n",
    "\n",
    "    results_df = (\n",
    "        pl.from_records(\n",
    "            [\n",
    "                {\n",
    "                    \"run_id\": conf.Metadata.run_id,\n",
    "                    \"calibration_passed\": (\n",
    "                        conf.Pipeline.pipeline[0].consumers[7].config.calibration_passed\n",
    "                    ),\n",
    "                    **OmegaConf.to_container(\n",
    "                        conf.Pipeline.pipeline[0].consumers[8].config\n",
    "                    ),\n",
    "                    **{\n",
    "                        \"total_vehicles_emissions\": conf.Blocks.FuelTotalConfig.total_vehicles,\n",
    "                        \"total_energy\": conf.Blocks.FuelTotalConfig.total_energy,\n",
    "                    },\n",
    "                    # **OmegaConf.to_container(conf.Blocks.FuelTotalConfig),\n",
    "                }\n",
    "                for conf in confs\n",
    "            ]\n",
    "        )\n",
    "        .with_columns(\n",
    "            pl.col(\"run_id\").cast(pl.UInt32),\n",
    "        )\n",
    "        .drop([\"detector_file\", \"trip_info_file\", \"warmup_time\"])\n",
    "    )\n",
    "\n",
    "    # save the results\n",
    "    results_df.write_parquet(experiment_root / \"results.parquet\")\n",
    "\n",
    "else:\n",
    "    results_df = pl.read_parquet(results_df_path)\n",
    "\n",
    "repr_conf = OmegaConf.load(experiment_root / \"0\" / \"config.yaml\")"
   ]
  },
  {
   "cell_type": "code",
   "execution_count": null,
   "metadata": {},
   "outputs": [],
   "source": [
    "print(experiment_root / \"results.parquet\")"
   ]
  },
  {
   "cell_type": "markdown",
   "metadata": {},
   "source": [
    "### Build a DataFrame from Sobol Sequence"
   ]
  },
  {
   "cell_type": "code",
   "execution_count": null,
   "metadata": {},
   "outputs": [],
   "source": [
    "sample_df = pl.read_parquet(\n",
    "    experiment_root / repr_conf.Blocks.SobolSequenceConfig.save_path\n",
    ").with_row_count(\"run_id\")"
   ]
  },
  {
   "cell_type": "code",
   "execution_count": null,
   "metadata": {},
   "outputs": [],
   "source": [
    "# results_df[\"total_energy\"].head()"
   ]
  },
  {
   "cell_type": "markdown",
   "metadata": {},
   "source": [
    "### Update the Fuel Amount"
   ]
  },
  {
   "cell_type": "code",
   "execution_count": null,
   "metadata": {},
   "outputs": [],
   "source": [
    "from src.sa_helpers.metrics import (\n",
    "    SUMO_GASOLINE_GRAM_PER_LITER,\n",
    "    SUMO_GASOLINE_GRAM_TO_JOULE,\n",
    ")\n",
    "\n",
    "results_df = results_df.with_columns(\n",
    "    total_fuel_l_cropped=pl.col(\"total_energy\")\n",
    "    / SUMO_GASOLINE_GRAM_TO_JOULE\n",
    "    / SUMO_GASOLINE_GRAM_PER_LITER\n",
    ").with_columns(\n",
    "    cropped_per_vehicle_fuel=pl.col(\"total_fuel_l_cropped\")\n",
    "    / pl.col(\"total_vehicles_emissions\")\n",
    ")"
   ]
  },
  {
   "cell_type": "code",
   "execution_count": null,
   "metadata": {},
   "outputs": [],
   "source": [
    "results_df[\"run_id\"].max() + 1"
   ]
  },
  {
   "cell_type": "markdown",
   "metadata": {},
   "source": [
    "### Join the DataFrame"
   ]
  },
  {
   "cell_type": "code",
   "execution_count": null,
   "metadata": {},
   "outputs": [],
   "source": [
    "results_df = results_df.join(sample_df, on=\"run_id\")\n",
    "results_df.head()"
   ]
  },
  {
   "cell_type": "code",
   "execution_count": null,
   "metadata": {},
   "outputs": [],
   "source": [
    "1 - results_df[\"calibration_passed\"].mean()"
   ]
  },
  {
   "cell_type": "code",
   "execution_count": null,
   "metadata": {},
   "outputs": [],
   "source": [
    "results_df.filter(\n",
    "    ~pl.col(\"calibration_passed\"),\n",
    ").sort(\n",
    "    \"average_fc\",\n",
    "    descending=True,\n",
    ")"
   ]
  },
  {
   "cell_type": "code",
   "execution_count": null,
   "metadata": {},
   "outputs": [],
   "source": [
    "results_df[\"average_travel_time\"]"
   ]
  },
  {
   "cell_type": "code",
   "execution_count": null,
   "metadata": {},
   "outputs": [],
   "source": [
    "# pl.read_parquet(experiment_root / \"11615\" / \"usdot_res.parquet\")"
   ]
  },
  {
   "cell_type": "markdown",
   "metadata": {},
   "source": [
    "### Read in all the calibration results"
   ]
  },
  {
   "cell_type": "code",
   "execution_count": null,
   "metadata": {},
   "outputs": [],
   "source": [
    "df = pl.concat(\n",
    "    pl.scan_parquet(\n",
    "        experiment_root / f\"{i}\" / \"usdot_res.parquet\",\n",
    "    ).with_columns(\n",
    "        run_id=pl.lit(i, dtype=pl.UInt32),\n",
    "    )\n",
    "    for i in results_df[\"run_id\"]\n",
    ").collect()"
   ]
  },
  {
   "cell_type": "code",
   "execution_count": null,
   "metadata": {},
   "outputs": [],
   "source": [
    "df.filter(pl.col(\"BDSE\") > pl.col(\"BDSE_Threshold\"))"
   ]
  },
  {
   "cell_type": "code",
   "execution_count": null,
   "metadata": {},
   "outputs": [],
   "source": [
    "results_df = results_df.join(\n",
    "    df.group_by(\"run_id\").agg(pl.col(\"BDAE\").mean()), on=\"run_id\"\n",
    ")"
   ]
  },
  {
   "cell_type": "markdown",
   "metadata": {},
   "source": [
    "## Perform Sensitivity Analysis"
   ]
  },
  {
   "cell_type": "code",
   "execution_count": null,
   "metadata": {},
   "outputs": [],
   "source": [
    "from SALib.analyze import sobol\n",
    "from SALib.sample import sobol as sobol_sample\n",
    "from sumo_pipelines.blocks.producers.config import SobolSequenceConfig"
   ]
  },
  {
   "cell_type": "code",
   "execution_count": null,
   "metadata": {},
   "outputs": [],
   "source": [
    "problem = SobolSequenceConfig.build_sobol_dict(repr_conf.Blocks.SobolSequenceConfig)\n",
    "second_order = repr_conf.Blocks.SobolSequenceConfig.calc_second_order\n",
    "\n",
    "\n",
    "def get_sa_results(results_df, problem, column, second_order=False):\n",
    "    return sobol.analyze(\n",
    "        problem, results_df[column].to_numpy(), calc_second_order=second_order\n",
    "    )"
   ]
  },
  {
   "cell_type": "markdown",
   "metadata": {},
   "source": [
    "### Verify that Everything is in Right Order"
   ]
  },
  {
   "cell_type": "code",
   "execution_count": null,
   "metadata": {},
   "outputs": [],
   "source": [
    "import numpy as np\n",
    "\n",
    "sobol_sampled = sobol_sample.sample(\n",
    "    problem,\n",
    "    N=repr_conf.Blocks.SobolSequenceConfig.N,\n",
    "    calc_second_order=second_order,\n",
    "    seed=repr_conf.Metadata.random_seed,\n",
    ")\n",
    "\n",
    "assert np.allclose(sobol_sampled, sample_df[problem[\"names\"]].to_numpy())"
   ]
  },
  {
   "cell_type": "code",
   "execution_count": null,
   "metadata": {},
   "outputs": [],
   "source": []
  },
  {
   "cell_type": "markdown",
   "metadata": {},
   "source": [
    "### Perform Sensitivity Analysis"
   ]
  },
  {
   "cell_type": "code",
   "execution_count": null,
   "metadata": {},
   "outputs": [],
   "source": [
    "target_cols = set(results_df.columns).intersection(\n",
    "    set(repr_conf.Pipeline.pipeline[0].consumers[8].config.keys())\n",
    ") | set([\"cropped_per_vehicle_fuel\", \"total_fuel_l_cropped\", \"BDAE\"])\n",
    "\n",
    "results = {}\n",
    "\n",
    "for col in target_cols:\n",
    "    results[col] = get_sa_results(\n",
    "        results_df,\n",
    "        problem,\n",
    "        col,\n",
    "        second_order=second_order,\n",
    "    )"
   ]
  },
  {
   "cell_type": "code",
   "execution_count": null,
   "metadata": {},
   "outputs": [],
   "source": [
    "# build the results dataframe for S1 and ST\n",
    "sobol_df = pl.DataFrame(\n",
    "    {\n",
    "        \"names\": problem[\"names\"],\n",
    "        **{\n",
    "            f\"{col}_{sa_type}\": results[col][sa_type]\n",
    "            for col in target_cols\n",
    "            for sa_type in [\"S1\", \"ST\", \"S1_conf\", \"ST_conf\"]\n",
    "        },\n",
    "    }\n",
    ")"
   ]
  },
  {
   "cell_type": "markdown",
   "metadata": {},
   "source": [
    "## Plots of Results"
   ]
  },
  {
   "cell_type": "code",
   "execution_count": null,
   "metadata": {},
   "outputs": [],
   "source": [
    "sobol_df.sort(\"average_travel_time_ST\", descending=True)[\n",
    "    [\"names\", \"average_travel_time_ST\", \"average_travel_time_ST_conf\"]\n",
    "]"
   ]
  },
  {
   "cell_type": "code",
   "execution_count": null,
   "metadata": {},
   "outputs": [],
   "source": [
    "sobol_df.sort(\"average_delay_ST\", descending=True)[\n",
    "    [\"names\", \"average_delay_ST\", \"average_delay_ST_conf\"]\n",
    "]"
   ]
  },
  {
   "cell_type": "code",
   "execution_count": null,
   "metadata": {},
   "outputs": [],
   "source": [
    "sobol_df.sort(\"delay_ratio_ST\", descending=True)[\n",
    "    [\"names\", \"delay_ratio_ST\", \"delay_ratio_ST_conf\"]\n",
    "]"
   ]
  },
  {
   "cell_type": "code",
   "execution_count": null,
   "metadata": {},
   "outputs": [],
   "source": [
    "sobol_df.sort(\"cropped_per_vehicle_fuel_ST\", descending=True)[\n",
    "    [\n",
    "        \"names\",\n",
    "        \"cropped_per_vehicle_fuel_ST\",\n",
    "        \"cropped_per_vehicle_fuel_ST_conf\",\n",
    "        \"cropped_per_vehicle_fuel_S1\",\n",
    "        \"cropped_per_vehicle_fuel_S1_conf\",\n",
    "    ]\n",
    "]"
   ]
  },
  {
   "cell_type": "code",
   "execution_count": null,
   "metadata": {},
   "outputs": [],
   "source": [
    "from src.plotting.bar import plot_bars\n",
    "from src.plotting.latex import ORDERED_VARIABLES\n",
    "\n",
    "sobol_df = sobol_df.with_columns(\n",
    "    pl.col(\"names\").map_dict(ORDERED_VARIABLES).alias(\"order\")\n",
    ")"
   ]
  },
  {
   "cell_type": "code",
   "execution_count": null,
   "metadata": {},
   "outputs": [],
   "source": [
    "fig = plot_bars(\n",
    "    sobol_df,\n",
    "    plot_columns=[\n",
    "        \"cropped_per_vehicle_fuel\",\n",
    "        \"average_travel_time\",\n",
    "        # \"average_fc\",\n",
    "        \"average_delay\",\n",
    "        \"delay_ratio\",\n",
    "    ],\n",
    "    pretty_columns=[\n",
    "        \"Per-Vehicle Fuel Consumption\",\n",
    "        \"Average Travel Time\",\n",
    "        \"Average Delay\",\n",
    "        \"Delay Ratio\",\n",
    "    ],\n",
    "    sort_columns=[\"order\"],\n",
    "    variable_column=\"names\",\n",
    "    use_latex=True,\n",
    ")\n",
    "\n",
    "# display the figure as an image\n",
    "from IPython.display import Image\n",
    "\n",
    "Image(fig.to_image(format=\"png\", width=800, height=1200))"
   ]
  },
  {
   "cell_type": "code",
   "execution_count": null,
   "metadata": {},
   "outputs": [],
   "source": [
    "import plotly.express as px\n",
    "import plotly.graph_objects as go\n",
    "\n",
    "\n",
    "# scatter plot decel vs. total fuel consumption\n",
    "fig = px.scatter(\n",
    "    results_df,\n",
    "    x=\"FleetComposition\",\n",
    "    y=\"total_fuel_l_cropped\",\n",
    "    # color=\"calibration_passed\",\n",
    "    # color_continuous_scale=px.colors.diverging.Tealrose,\n",
    ")\n",
    "\n",
    "\n",
    "fig.show()"
   ]
  },
  {
   "cell_type": "code",
   "execution_count": null,
   "metadata": {},
   "outputs": [],
   "source": [
    "# approximating the relationship between fuel consumption and fleet composition with a linear model\n",
    "\n",
    "from scipy.stats import pearsonr\n",
    "\n",
    "\n",
    "print(\n",
    "    pearsonr(\n",
    "        results_df[\"FleetComposition\"].to_numpy(),\n",
    "        results_df[\"total_fuel_l_cropped\"].to_numpy(),\n",
    "    )\n",
    ")"
   ]
  },
  {
   "cell_type": "code",
   "execution_count": null,
   "metadata": {},
   "outputs": [],
   "source": [
    "results_df[[\"total_fuel_l_cropped\", \"cropped_per_vehicle_fuel\"]].quantile(0.95)"
   ]
  },
  {
   "cell_type": "code",
   "execution_count": null,
   "metadata": {},
   "outputs": [],
   "source": [
    "import plotly.express as px\n",
    "import plotly.graph_objects as go\n",
    "\n",
    "\n",
    "# scatter plot decel vs. total fuel consumption\n",
    "fig = px.scatter(\n",
    "    results_df,  # .filter((pl.col(\"speedFactor\") - 1.15).abs() < 0.05),\n",
    "    x=\"impatience\",\n",
    "    y=\"total_fuel_l_cropped\",\n",
    "    # color=\"calibration_passed\",\n",
    "    # color_continuous_scale=px.colors.diverging.Tealrose,\n",
    ")\n",
    "\n",
    "\n",
    "fig.show()"
   ]
  },
  {
   "cell_type": "code",
   "execution_count": null,
   "metadata": {},
   "outputs": [],
   "source": [
    "import plotly.express as px\n",
    "import plotly.graph_objects as go\n",
    "\n",
    "\n",
    "# scatter plot decel vs. total fuel consumption\n",
    "fig = px.scatter(\n",
    "    results_df,\n",
    "    x=\"FleetComposition\",\n",
    "    y=\"delay_ratio\",\n",
    "    # color=\"calibration_passed\",\n",
    "    # color_continuous_scale=px.colors.diverging.Tealrose,\n",
    ")\n",
    "\n",
    "\n",
    "fig.show()"
   ]
  },
  {
   "cell_type": "code",
   "execution_count": null,
   "metadata": {},
   "outputs": [],
   "source": [
    "print(\n",
    "    pearsonr(\n",
    "        results_df[\"FleetComposition\"].to_numpy(), results_df[\"delay_ratio\"].to_numpy()\n",
    "    )\n",
    ")"
   ]
  },
  {
   "cell_type": "code",
   "execution_count": null,
   "metadata": {},
   "outputs": [],
   "source": [
    "import plotly.express as px\n",
    "import plotly.graph_objects as go\n",
    "\n",
    "\n",
    "# scatter plot decel vs. total fuel consumption\n",
    "fig = px.scatter(\n",
    "    results_df,  # .filter((pl.col(\"speedFactor\") - 1.15).abs() < 0.05),\n",
    "    x=\"BDAE\",\n",
    "    y=\"average_speed\",\n",
    ")\n",
    "\n",
    "\n",
    "fig.show()"
   ]
  },
  {
   "cell_type": "code",
   "execution_count": null,
   "metadata": {},
   "outputs": [],
   "source": [
    "import plotly.express as px\n",
    "import plotly.graph_objects as go\n",
    "\n",
    "\n",
    "# scatter plot decel vs. total fuel consumption\n",
    "fig = px.scatter(\n",
    "    results_df,  # .filter((pl.col(\"speedFactor\") - 1.15).abs() < 0.05),\n",
    "    x=\"impatience\",\n",
    "    y=\"average_delay\",\n",
    "    color=\"cropped_per_vehicle_fuel\",\n",
    "    color_continuous_scale=px.colors.diverging.Tealrose,\n",
    ")\n",
    "\n",
    "\n",
    "fig.show()"
   ]
  },
  {
   "cell_type": "code",
   "execution_count": null,
   "metadata": {},
   "outputs": [],
   "source": [
    "import plotly.express as px\n",
    "import plotly.graph_objects as go\n",
    "\n",
    "\n",
    "# scatter plot decel vs. total fuel consumption\n",
    "fig = px.scatter(\n",
    "    results_df,  # .filter((pl.col(\"speedFactor\") - 1.15).abs() < 0.05),\n",
    "    x=\"Accel\",\n",
    "    y=\"cropped_per_vehicle_fuel\",\n",
    "    color=\"average_delay\",\n",
    "    color_continuous_scale=px.colors.diverging.Tealrose,\n",
    ")\n",
    "\n",
    "\n",
    "fig.show()"
   ]
  },
  {
   "cell_type": "code",
   "execution_count": null,
   "metadata": {},
   "outputs": [],
   "source": [
    "import plotly.express as px\n",
    "import plotly.graph_objects as go\n",
    "\n",
    "\n",
    "# scatter plot decel vs. total fuel consumption\n",
    "fig = px.scatter(\n",
    "    results_df,  # .filter((pl.col(\"speedFactor\") - 1.15).abs() < 0.05),\n",
    "    x=\"Tau\",\n",
    "    y=\"cropped_per_vehicle_fuel\",\n",
    "    color=\"average_delay\",\n",
    "    color_continuous_scale=px.colors.diverging.Tealrose,\n",
    ")\n",
    "\n",
    "\n",
    "fig.show()"
   ]
  },
  {
   "cell_type": "code",
   "execution_count": null,
   "metadata": {},
   "outputs": [],
   "source": [
    "import plotly.express as px\n",
    "import plotly.graph_objects as go\n",
    "\n",
    "\n",
    "# scatter plot decel vs. total fuel consumption\n",
    "fig = px.scatter(\n",
    "    results_df,  # .filter((pl.col(\"speedFactor\") - 1.15).abs() < 0.05),\n",
    "    x=\"Accel\",\n",
    "    y=\"BDAE\",\n",
    "    # color=\"average_delay\",\n",
    "    color_continuous_scale=px.colors.diverging.Tealrose,\n",
    ")\n",
    "\n",
    "\n",
    "fig.show()"
   ]
  },
  {
   "cell_type": "code",
   "execution_count": null,
   "metadata": {},
   "outputs": [],
   "source": [
    "px.density_heatmap(\n",
    "    results_df.to_pandas(),\n",
    "    x=\"speedDev\",\n",
    "    y=\"speedFactor\",\n",
    "    z=\"cropped_per_vehicle_fuel\",\n",
    "    histfunc=\"avg\",\n",
    ")"
   ]
  },
  {
   "cell_type": "code",
   "execution_count": null,
   "metadata": {},
   "outputs": [],
   "source": [
    "results_df[\n",
    "    [\n",
    "        \"average_speed\",\n",
    "        \"speedFactor\",\n",
    "        \"speedDev\",\n",
    "        \"cropped_per_vehicle_fuel\",\n",
    "        \"impatience\",\n",
    "        \"BDAE\",\n",
    "    ]\n",
    "].corr()"
   ]
  },
  {
   "cell_type": "code",
   "execution_count": null,
   "metadata": {},
   "outputs": [],
   "source": [
    "import plotly.graph_objects as go\n",
    "\n",
    "col = \"average_travel_time_ST\"\n",
    "\n",
    "sobol_df = sobol_df.sort(\n",
    "    col,\n",
    ")\n",
    "\n",
    "fig = go.Figure(\n",
    "    data=[\n",
    "        go.Bar(\n",
    "            name=col,\n",
    "            y=sobol_df[\"names\"],\n",
    "            x=sobol_df[col],\n",
    "            orientation=\"h\",\n",
    "            marker=dict(\n",
    "                color=\"rgba(0, 0, 0, 0.4)\",\n",
    "                line=dict(color=\"rgba(0, 0, 0, 1.0)\", width=2),\n",
    "                pattern_shape=\"x\",\n",
    "            ),\n",
    "        )\n",
    "    ]\n",
    ")\n",
    "\n",
    "fig.update_layout(\n",
    "    yaxis=dict(\n",
    "        # dtick=0.1, tickangle=45,\n",
    "        showgrid=True,\n",
    "        tickvals=sobol_df[\"names\"],\n",
    "        minor_showgrid=True,\n",
    "    ),\n",
    ")\n",
    "\n",
    "\n",
    "fig.show()"
   ]
  },
  {
   "cell_type": "code",
   "execution_count": null,
   "metadata": {},
   "outputs": [],
   "source": [
    "import plotly.graph_objects as go\n",
    "\n",
    "col = \"total_fuel_l_cropped_ST\"\n",
    "\n",
    "sobol_df = sobol_df.sort(\n",
    "    col,\n",
    ")\n",
    "\n",
    "fig = go.Figure(\n",
    "    data=[\n",
    "        go.Bar(\n",
    "            name=col,\n",
    "            y=sobol_df[\"names\"],\n",
    "            x=sobol_df[col],\n",
    "            orientation=\"h\",\n",
    "            marker=dict(\n",
    "                color=\"rgba(0, 0, 0, 0.4)\",\n",
    "                line=dict(color=\"rgba(0, 0, 0, 1.0)\", width=2),\n",
    "                pattern_shape=\"x\",\n",
    "            ),\n",
    "        )\n",
    "    ]\n",
    ")\n",
    "\n",
    "fig.update_layout(\n",
    "    yaxis=dict(\n",
    "        # dtick=0.1, tickangle=45,\n",
    "        showgrid=True,\n",
    "        tickvals=sobol_df[\"names\"],\n",
    "        minor_showgrid=True,\n",
    "    ),\n",
    ")\n",
    "\n",
    "\n",
    "fig.show()"
   ]
  },
  {
   "cell_type": "markdown",
   "metadata": {},
   "source": [
    "## Parallel Coordinates Plot of Sensitivity Analysis"
   ]
  },
  {
   "cell_type": "code",
   "execution_count": null,
   "metadata": {},
   "outputs": [],
   "source": []
  },
  {
   "cell_type": "markdown",
   "metadata": {},
   "source": [
    "## Distribution of Outputs"
   ]
  },
  {
   "cell_type": "code",
   "execution_count": null,
   "metadata": {},
   "outputs": [],
   "source": [
    "results_df[\"total_fuel_l_cropped\"].skew(), results_df[\"total_fuel_l_cropped\"].kurtosis()"
   ]
  },
  {
   "cell_type": "code",
   "execution_count": null,
   "metadata": {},
   "outputs": [],
   "source": [
    "results_df[\"average_travel_time\"].skew(), results_df[\"average_travel_time\"].kurtosis()"
   ]
  },
  {
   "cell_type": "code",
   "execution_count": null,
   "metadata": {},
   "outputs": [],
   "source": [
    "results_df[\"delay_ratio\"].skew(), results_df[\"delay_ratio\"].kurtosis()"
   ]
  },
  {
   "cell_type": "code",
   "execution_count": null,
   "metadata": {},
   "outputs": [],
   "source": [
    "from src.plotting.bar import plot_ecdfs\n",
    "\n",
    "\n",
    "def open_res_df(path):\n",
    "    return (\n",
    "        pl.read_parquet(path / \"results.parquet\")\n",
    "        .with_columns(\n",
    "            total_fuel_l_cropped=pl.col(\"total_energy\")\n",
    "            / SUMO_GASOLINE_GRAM_TO_JOULE\n",
    "            / SUMO_GASOLINE_GRAM_PER_LITER\n",
    "        )\n",
    "        .with_columns(\n",
    "            cropped_per_vehicle_fuel=pl.col(\"total_fuel_l_cropped\")\n",
    "            / pl.col(\"total_vehicles_emissions\")\n",
    "        )\n",
    "    )\n",
    "\n",
    "\n",
    "fig = plot_ecdfs(\n",
    "    plot_columns=[\n",
    "        \"total_fuel_l_cropped\",\n",
    "        \"average_travel_time\",\n",
    "        \"average_delay\",\n",
    "        \"delay_ratio\",\n",
    "    ],\n",
    "    pretty_columns=[\n",
    "        \"Total Fuel Consumption [L]\",\n",
    "        \"Average Travel Time [s]\",\n",
    "        \"Average Delay [s]\",\n",
    "        \"Ratio of Delay\",\n",
    "    ],\n",
    "    ecdf_mapping={\n",
    "        \"SA 2 Samples\": (results_df, \"black\"),\n",
    "        \"SA 1 Samples\": (\n",
    "            open_res_df(\n",
    "                ROOT / \"tmp/SobolSensitivityAnalysisCars-2048/11.26.2023_15.04.49\"\n",
    "            ),\n",
    "            \"rgba(229, 185, 173, 1)\",\n",
    "        ),\n",
    "    },\n",
    ")\n",
    "\n",
    "fig.show()"
   ]
  },
  {
   "cell_type": "code",
   "execution_count": null,
   "metadata": {},
   "outputs": [],
   "source": [
    "failure_df = results_df.filter(~pl.col(\"calibration_passed\"))\n",
    "pass_df = results_df.filter(pl.col(\"calibration_passed\"))"
   ]
  },
  {
   "cell_type": "code",
   "execution_count": null,
   "metadata": {},
   "outputs": [],
   "source": [
    "import scipy.stats as stats\n",
    "\n",
    "stats.ks_2samp(failure_df[\"average_delay\"], pass_df[\"average_delay\"])"
   ]
  },
  {
   "cell_type": "code",
   "execution_count": null,
   "metadata": {},
   "outputs": [],
   "source": [
    "stats.ks_2samp(failure_df[\"total_fuel_l_cropped\"], pass_df[\"total_fuel_l_cropped\"])"
   ]
  },
  {
   "cell_type": "code",
   "execution_count": null,
   "metadata": {},
   "outputs": [],
   "source": [
    "stats.ks_2samp(failure_df[\"average_travel_time\"], pass_df[\"average_travel_time\"])"
   ]
  },
  {
   "cell_type": "code",
   "execution_count": null,
   "metadata": {},
   "outputs": [],
   "source": [
    "# test to see if the failure_df is statistically different from the success_df\n",
    "import scipy.stats as stats\n",
    "\n",
    "stats.ks_2samp(failure_df[\"average_delay\"], pass_df[\"average_delay\"])\n",
    "\n",
    "# plot the two\n",
    "fig = plot_ecdfs(\n",
    "    plot_columns=[\n",
    "        \"total_fuel_l_cropped\",\n",
    "        \"average_travel_time\",\n",
    "        \"average_delay\",\n",
    "        \"delay_ratio\",\n",
    "    ],\n",
    "    pretty_columns=[\n",
    "        \"Total Fuel Consumption [L]\",\n",
    "        \"Average Travel Time [s]\",\n",
    "        \"Average Delay [s]\",\n",
    "        \"Ratio of Delay\",\n",
    "    ],\n",
    "    ecdf_mapping={\n",
    "        \"Passed\": (pass_df, \"rgba(0, 147, 146, 1)\"),\n",
    "        \"Failed\": (failure_df, \"rgba(229, 185, 173, 1)\"),\n",
    "    },\n",
    ")\n",
    "\n",
    "fig.show()"
   ]
  },
  {
   "cell_type": "code",
   "execution_count": null,
   "metadata": {},
   "outputs": [],
   "source": [
    "1 - results_df['calibration_passed'].mean()"
   ]
  },
  {
   "cell_type": "code",
   "execution_count": null,
   "metadata": {},
   "outputs": [],
   "source": [
    "1 - results_df.filter(\n",
    "    pl.col('average_delay') > pl.col('average_delay').quantile(0.99)\n",
    ")['calibration_passed'].mean()"
   ]
  },
  {
   "cell_type": "code",
   "execution_count": null,
   "metadata": {},
   "outputs": [],
   "source": [
    "(failure_df['FleetComposition'] > results_df['FleetComposition'].mean()).mean()"
   ]
  }
 ],
 "metadata": {
  "kernelspec": {
   "display_name": "sumo-sim",
   "language": "python",
   "name": "python3"
  },
  "language_info": {
   "codemirror_mode": {
    "name": "ipython",
    "version": 3
   },
   "file_extension": ".py",
   "mimetype": "text/x-python",
   "name": "python",
   "nbconvert_exporter": "python",
   "pygments_lexer": "ipython3",
   "version": "3.9.18"
  }
 },
 "nbformat": 4,
 "nbformat_minor": 2
}
