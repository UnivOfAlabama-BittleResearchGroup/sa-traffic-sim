{
 "cells": [
  {
   "cell_type": "code",
   "execution_count": null,
   "metadata": {},
   "outputs": [],
   "source": [
    "%load_ext autoreload\n",
    "%autoreload 2"
   ]
  },
  {
   "cell_type": "markdown",
   "metadata": {},
   "source": [
    "# Processing Sensitivity Analysis Outputs"
   ]
  },
  {
   "cell_type": "code",
   "execution_count": null,
   "metadata": {},
   "outputs": [],
   "source": [
    "import os\n",
    "from pathlib import Path\n",
    "\n",
    "\n",
    "ROOT = Path(os.getcwd()).parent\n",
    "while not ROOT.joinpath(\".git\").exists():\n",
    "    ROOT = ROOT.parent\n",
    "\n",
    "# add the root to the python path\n",
    "import sys\n",
    "import dotenv\n",
    "from omegaconf import OmegaConf\n",
    "\n",
    "sys.path.append(str(ROOT))\n",
    "\n",
    "# load the environment variables\n",
    "dotenv.load_dotenv(ROOT.joinpath(\".env\"))"
   ]
  },
  {
   "cell_type": "code",
   "execution_count": null,
   "metadata": {},
   "outputs": [],
   "source": [
    "import polars as pl\n",
    "\n",
    "from sumo_pipelines.utils.config_helpers import (\n",
    "    create_custom_resolvers,\n",
    ")\n",
    "from sumo_pipelines.utils.file_helpers import walk_directory\n",
    "\n",
    "create_custom_resolvers()"
   ]
  },
  {
   "cell_type": "markdown",
   "metadata": {},
   "source": [
    "## Load the Data"
   ]
  },
  {
   "cell_type": "code",
   "execution_count": null,
   "metadata": {},
   "outputs": [],
   "source": [
    "experiment_root = ROOT / \"tmp/SobolSensitivityAnalysisCars-2048/11.26.2023_15.04.49\"\n",
    "\n",
    "shanghai_paper_res = ROOT / \"tmp/ShanghaiPaper/11.28.2023_15.40.41\"\n",
    "corr_paper_res = ROOT / \"tmp/CorrPaper/11.28.2023_15.27.09\"\n",
    "sumo_default_res = ROOT / \"tmp/SumoDefaults/11.28.2023_15.45.34\""
   ]
  },
  {
   "cell_type": "markdown",
   "metadata": {},
   "source": [
    "### Build A Dataframe from Results"
   ]
  },
  {
   "cell_type": "code",
   "execution_count": null,
   "metadata": {},
   "outputs": [],
   "source": [
    "results_df_path = experiment_root / \"results.parquet\"\n",
    "\n",
    "if not results_df_path.exists():\n",
    "    confs = list(\n",
    "        walk_directory(\n",
    "            experiment_root,\n",
    "        )\n",
    "    )\n",
    "    confs.sort(key=lambda x: int(x.Metadata.run_id))\n",
    "\n",
    "    results_df = (\n",
    "        pl.from_records(\n",
    "            [\n",
    "                {\n",
    "                    \"run_id\": conf.Metadata.run_id,\n",
    "                    \"calibration_passed\": (\n",
    "                        conf.Pipeline.pipeline[0].consumers[7].config.calibration_passed\n",
    "                    ),\n",
    "                    **OmegaConf.to_container(\n",
    "                        conf.Pipeline.pipeline[0].consumers[8].config\n",
    "                    ),\n",
    "                    **{\n",
    "                        \"total_vehicles_emissions\": conf.Blocks.FuelTotalConfig.total_vehicles,\n",
    "                        \"total_energy\": conf.Blocks.FuelTotalConfig.total_energy,\n",
    "                    },\n",
    "                    # **OmegaConf.to_container(conf.Blocks.FuelTotalConfig),\n",
    "                }\n",
    "                for conf in confs\n",
    "            ]\n",
    "        )\n",
    "        .with_columns(\n",
    "            pl.col(\"run_id\").cast(pl.UInt32),\n",
    "        )\n",
    "        .drop([\"detector_file\", \"trip_info_file\", \"warmup_time\"])\n",
    "    )\n",
    "\n",
    "    # save the results\n",
    "    results_df.write_parquet(experiment_root / \"results.parquet\")\n",
    "\n",
    "else:\n",
    "    results_df = pl.read_parquet(results_df_path)\n",
    "\n",
    "repr_conf = OmegaConf.load(experiment_root / \"0\" / \"config.yaml\")"
   ]
  },
  {
   "cell_type": "code",
   "execution_count": null,
   "metadata": {},
   "outputs": [],
   "source": [
    "print(experiment_root / \"results.parquet\")"
   ]
  },
  {
   "cell_type": "markdown",
   "metadata": {},
   "source": [
    "### Build a DataFrame from Sobol Sequence"
   ]
  },
  {
   "cell_type": "code",
   "execution_count": null,
   "metadata": {},
   "outputs": [],
   "source": [
    "sample_df = pl.read_parquet(\n",
    "    experiment_root / repr_conf.Blocks.SobolSequenceConfig.save_path\n",
    ").with_row_count(\"run_id\")"
   ]
  },
  {
   "cell_type": "code",
   "execution_count": null,
   "metadata": {},
   "outputs": [],
   "source": [
    "# results_df[\"total_energy\"].head()"
   ]
  },
  {
   "cell_type": "markdown",
   "metadata": {},
   "source": [
    "### Update the Fuel Amount"
   ]
  },
  {
   "cell_type": "code",
   "execution_count": null,
   "metadata": {},
   "outputs": [],
   "source": [
    "from src.sa_helpers.metrics import (\n",
    "    SUMO_GASOLINE_GRAM_PER_LITER,\n",
    "    SUMO_GASOLINE_GRAM_TO_JOULE,\n",
    ")\n",
    "\n",
    "results_df = results_df.with_columns(\n",
    "    total_fuel_l_cropped=pl.col(\"total_energy\")\n",
    "    / SUMO_GASOLINE_GRAM_TO_JOULE\n",
    "    / SUMO_GASOLINE_GRAM_PER_LITER\n",
    ").with_columns(\n",
    "    cropped_per_vehicle_fuel=pl.col(\"total_fuel_l_cropped\")\n",
    "    / pl.col(\"total_vehicles_emissions\")\n",
    ")"
   ]
  },
  {
   "cell_type": "code",
   "execution_count": null,
   "metadata": {},
   "outputs": [],
   "source": [
    "results_df.head()"
   ]
  },
  {
   "cell_type": "code",
   "execution_count": null,
   "metadata": {},
   "outputs": [],
   "source": [
    "results_df[['total_fuel_l_cropped', 'cropped_per_vehicle_fuel']].quantile(0.95)"
   ]
  },
  {
   "cell_type": "markdown",
   "metadata": {},
   "source": [
    "### Join the DataFrame"
   ]
  },
  {
   "cell_type": "code",
   "execution_count": null,
   "metadata": {},
   "outputs": [],
   "source": [
    "results_df = results_df.join(sample_df, on=\"run_id\")\n",
    "results_df.head()"
   ]
  },
  {
   "cell_type": "code",
   "execution_count": null,
   "metadata": {},
   "outputs": [],
   "source": [
    "1 - results_df[\"calibration_passed\"].mean()"
   ]
  },
  {
   "cell_type": "code",
   "execution_count": null,
   "metadata": {},
   "outputs": [],
   "source": [
    "results_df.filter(\n",
    "    ~pl.col(\"calibration_passed\"),\n",
    ").sort(\n",
    "    \"average_fc\",\n",
    "    descending=True,\n",
    ")"
   ]
  },
  {
   "cell_type": "code",
   "execution_count": null,
   "metadata": {},
   "outputs": [],
   "source": [
    "results_df[\"average_travel_time\"]"
   ]
  },
  {
   "cell_type": "code",
   "execution_count": null,
   "metadata": {},
   "outputs": [],
   "source": [
    "# pl.read_parquet(experiment_root / \"11615\" / \"usdot_res.parquet\")"
   ]
  },
  {
   "cell_type": "markdown",
   "metadata": {},
   "source": [
    "### Read in all the calibration results"
   ]
  },
  {
   "cell_type": "code",
   "execution_count": null,
   "metadata": {},
   "outputs": [],
   "source": [
    "df = pl.concat(\n",
    "    pl.scan_parquet(\n",
    "        experiment_root / f\"{i}\" / \"usdot_res.parquet\",\n",
    "    ).with_columns(\n",
    "        run_id=pl.lit(i, dtype=pl.UInt32),\n",
    "    )\n",
    "    for i in results_df[\"run_id\"]\n",
    ").collect()"
   ]
  },
  {
   "cell_type": "code",
   "execution_count": null,
   "metadata": {},
   "outputs": [],
   "source": [
    "df.filter(pl.col(\"BDSE\") > pl.col(\"BDSE_Threshold\"))"
   ]
  },
  {
   "cell_type": "code",
   "execution_count": null,
   "metadata": {},
   "outputs": [],
   "source": [
    "results_df = results_df.join(\n",
    "    df.group_by(\"run_id\").agg(pl.col(\"BDAE\").mean()), on=\"run_id\"\n",
    ")"
   ]
  },
  {
   "cell_type": "markdown",
   "metadata": {},
   "source": [
    "## Perform Sensitivity Analysis"
   ]
  },
  {
   "cell_type": "code",
   "execution_count": null,
   "metadata": {},
   "outputs": [],
   "source": [
    "from SALib.analyze import sobol\n",
    "from SALib.sample import sobol as sobol_sample\n",
    "from sumo_pipelines.blocks.producers.config import SobolSequenceConfig"
   ]
  },
  {
   "cell_type": "code",
   "execution_count": null,
   "metadata": {},
   "outputs": [],
   "source": [
    "problem = SobolSequenceConfig.build_sobol_dict(repr_conf.Blocks.SobolSequenceConfig)\n",
    "second_order = repr_conf.Blocks.SobolSequenceConfig.calc_second_order\n",
    "\n",
    "\n",
    "def get_sa_results(results_df, problem, column, second_order=False):\n",
    "    return sobol.analyze(\n",
    "        problem, results_df[column].to_numpy(), calc_second_order=second_order\n",
    "    )"
   ]
  },
  {
   "cell_type": "markdown",
   "metadata": {},
   "source": [
    "### Verify that Everything is in Right Order"
   ]
  },
  {
   "cell_type": "code",
   "execution_count": null,
   "metadata": {},
   "outputs": [],
   "source": [
    "import numpy as np\n",
    "\n",
    "sobol_sampled = sobol_sample.sample(\n",
    "    problem,\n",
    "    N=repr_conf.Blocks.SobolSequenceConfig.N,\n",
    "    calc_second_order=second_order,\n",
    "    seed=repr_conf.Metadata.random_seed,\n",
    ")\n",
    "\n",
    "assert np.allclose(sobol_sampled, sample_df[problem[\"names\"]].to_numpy())"
   ]
  },
  {
   "cell_type": "code",
   "execution_count": null,
   "metadata": {},
   "outputs": [],
   "source": []
  },
  {
   "cell_type": "markdown",
   "metadata": {},
   "source": [
    "### Perform Sensitivity Analysis"
   ]
  },
  {
   "cell_type": "code",
   "execution_count": null,
   "metadata": {},
   "outputs": [],
   "source": [
    "target_cols = set(results_df.columns).intersection(\n",
    "    set(repr_conf.Pipeline.pipeline[0].consumers[8].config.keys())\n",
    ") | set([\"cropped_per_vehicle_fuel\", \"total_fuel_l_cropped\", \"BDAE\"])\n",
    "\n",
    "results = {}\n",
    "\n",
    "for col in target_cols:\n",
    "    results[col] = get_sa_results(\n",
    "        results_df,\n",
    "        problem,\n",
    "        col,\n",
    "        second_order=second_order,\n",
    "    )"
   ]
  },
  {
   "cell_type": "code",
   "execution_count": null,
   "metadata": {},
   "outputs": [],
   "source": [
    "target_cols"
   ]
  },
  {
   "cell_type": "code",
   "execution_count": null,
   "metadata": {},
   "outputs": [],
   "source": [
    "# import pandas as pd\n",
    "\n",
    "# s2_df = pl.DataFrame(results[col]['S2'], schema=problem['names'], ).with_columns(\n",
    "#     var_one=pl.Series(problem['names'])\n",
    "# )\n",
    "\n",
    "# s2_df.melt(\n",
    "#     id_vars=[\"var_one\"],\n",
    "#     value_vars=problem[\"names\"],\n",
    "# ).filter(\n",
    "#     pl.col('value').is_not_nan()\n",
    "# ).sort(pl.col('value'), descending=True)"
   ]
  },
  {
   "cell_type": "code",
   "execution_count": null,
   "metadata": {},
   "outputs": [],
   "source": [
    "# build the results dataframe for S1 and ST\n",
    "sobol_df = pl.DataFrame(\n",
    "    {\n",
    "        \"names\": problem[\"names\"],\n",
    "        **{\n",
    "            f\"{col}_{sa_type}\": results[col][sa_type]\n",
    "            for col in target_cols\n",
    "            for sa_type in [\"S1\", \"ST\", \"S1_conf\", \"ST_conf\"]\n",
    "        },\n",
    "    }\n",
    ")"
   ]
  },
  {
   "cell_type": "code",
   "execution_count": null,
   "metadata": {},
   "outputs": [],
   "source": [
    "sobol_df"
   ]
  },
  {
   "cell_type": "markdown",
   "metadata": {},
   "source": [
    "## Plots of Results"
   ]
  },
  {
   "cell_type": "code",
   "execution_count": null,
   "metadata": {},
   "outputs": [],
   "source": [
    "sobol_df.sort(\"average_travel_time_ST\", descending=True)[\n",
    "    [\"names\", \"average_travel_time_ST\", \"average_travel_time_ST_conf\"]\n",
    "]"
   ]
  },
  {
   "cell_type": "code",
   "execution_count": null,
   "metadata": {},
   "outputs": [],
   "source": [
    "sobol_df.sort(\"average_delay_ST\", descending=True)[\n",
    "    [\"names\", \"average_delay_ST\", \"average_delay_ST_conf\"]\n",
    "]"
   ]
  },
  {
   "cell_type": "code",
   "execution_count": null,
   "metadata": {},
   "outputs": [],
   "source": [
    "sobol_df.sort(\"delay_ratio_ST\", descending=True)[\n",
    "    [\"names\", \"delay_ratio_ST\", \"delay_ratio_ST_conf\"]\n",
    "]"
   ]
  },
  {
   "cell_type": "code",
   "execution_count": null,
   "metadata": {},
   "outputs": [],
   "source": [
    "sobol_df.sort(\"cropped_per_vehicle_fuel_ST\", descending=True)[\n",
    "    [\n",
    "        \"names\",\n",
    "        \"cropped_per_vehicle_fuel_ST\",\n",
    "        \"cropped_per_vehicle_fuel_ST_conf\",\n",
    "        \"cropped_per_vehicle_fuel_S1\",\n",
    "    ]\n",
    "]"
   ]
  },
  {
   "cell_type": "code",
   "execution_count": null,
   "metadata": {},
   "outputs": [],
   "source": [
    "from src.plotting.bar import plot_bars\n",
    "from src.plotting.latex import ORDERED_VARIABLES\n",
    "\n",
    "sobol_df = sobol_df.with_columns(\n",
    "    pl.col(\"names\").map_dict(ORDERED_VARIABLES).alias(\"order\")\n",
    ")"
   ]
  },
  {
   "cell_type": "code",
   "execution_count": null,
   "metadata": {},
   "outputs": [],
   "source": [
    "fig = plot_bars(\n",
    "    sobol_df,\n",
    "    plot_columns=[\n",
    "        \"cropped_per_vehicle_fuel\",\n",
    "        \"average_travel_time\",\n",
    "        # \"average_fc\",\n",
    "        \"average_delay\",\n",
    "        \"delay_ratio\",\n",
    "    ],\n",
    "    pretty_columns=[\n",
    "        \"Per-Vehicle Fuel Consumption\",\n",
    "        \"Average Travel Time\",\n",
    "        \"Average Delay\",\n",
    "        \"Delay Ratio\",\n",
    "    ],\n",
    "    sort_columns=[\"order\"],\n",
    "    variable_column=\"names\",\n",
    "    use_latex=True,\n",
    ")\n",
    "\n",
    "# display the figure as an image\n",
    "from IPython.display import Image\n",
    "\n",
    "Image(fig.to_image(format=\"png\", width=800, height=1200))"
   ]
  },
  {
   "cell_type": "code",
   "execution_count": null,
   "metadata": {},
   "outputs": [],
   "source": [
    "fig = plot_bars(\n",
    "    sobol_df.filter(\n",
    "        ~pl.col('names').is_in(['speedFactor', 'minGap', 'Accel', 'Decel', 'Tau', 'impatience'])\n",
    "    ),\n",
    "    plot_columns=[\n",
    "        \"cropped_per_vehicle_fuel\",\n",
    "        \"average_travel_time\",\n",
    "        # \"average_fc\",\n",
    "        \"average_delay\",\n",
    "        \"delay_ratio\",\n",
    "    ],\n",
    "    pretty_columns=[\n",
    "        \"Per-Vehicle Fuel Consumption\",\n",
    "        \"Average Travel Time\",\n",
    "        \"Average Delay\",\n",
    "        \"Delay Ratio\",\n",
    "    ],\n",
    "    sort_columns=[\"order\"],\n",
    "    variable_column=\"names\",\n",
    "    use_latex=True,\n",
    ")\n",
    "\n",
    "# display the figure as an image\n",
    "from IPython.display import Image\n",
    "\n",
    "Image(fig.to_image(format=\"png\", width=800, height=1200))"
   ]
  },
  {
   "cell_type": "markdown",
   "metadata": {},
   "source": [
    "### Looking Fuel Parallel Coordinates"
   ]
  },
  {
   "cell_type": "code",
   "execution_count": null,
   "metadata": {},
   "outputs": [],
   "source": [
    "import plotly.express as px\n",
    "from src.plotting.latex import NAME_2_LATEX\n",
    "\n",
    "col = \"average_delay\"\n",
    "\n",
    "\n",
    "colorscale = [\n",
    "    \"rgba(0, 147, 146, 0)\",\n",
    "    \"rgba(114, 170, 161, 0.2)\",\n",
    "    \"rgba(177, 199, 179, 0.4)\",\n",
    "    \"rgba(241, 234, 200, 0.6)\",\n",
    "    \"rgba(229, 185, 173, 0.8)\",\n",
    "    \"rgba(217, 137, 148, 1)\",\n",
    "    \"rgba(208, 88, 126, 1)\",\n",
    "]\n",
    "\n",
    "# most_sensitive = sobol_df.sort(by=f\"{col}_ST\", descending=False)[\"names\"][-4:]\n",
    "most_sensitive = [\"impatience\", \"Decel\", \"Tau\", \"Accel\"]\n",
    "\n",
    "plot_df = (\n",
    "    results_df\n",
    "    # .filter(\n",
    "    #     pl.col(\"calibration_passed\")\n",
    "    # )\n",
    ")\n",
    "\n",
    "\n",
    "def myround(x, base=5):\n",
    "    return base * round(x / base)\n",
    "\n",
    "\n",
    "fig = px.parallel_coordinates(\n",
    "    plot_df.select([col] + list(most_sensitive)).to_pandas(),\n",
    "    dimensions=list(most_sensitive) + [col],\n",
    "    color=col,\n",
    "    color_continuous_scale=colorscale,\n",
    ")\n",
    "\n",
    "for i, (dim, name) in enumerate(\n",
    "    zip(fig.data[0][\"dimensions\"], list(most_sensitive) + [col])\n",
    "):\n",
    "    try:\n",
    "        label = NAME_2_LATEX[name]\n",
    "        dim.label = \"\"\n",
    "        # dim.label = NAME_2_LATEX[name]\n",
    "    except KeyError:\n",
    "        dim.label = \"\"\n",
    "        label = \"Average<br>Delay [s]\"\n",
    "\n",
    "    fig.add_annotation(\n",
    "        text=label,\n",
    "        xref=\"x domain\",\n",
    "        yref=\"y domain\",\n",
    "        x=0.25 * i,\n",
    "        y=1.08 if label == \"Average<br>Delay [s]\" else 1.05,\n",
    "        # showarrow=True,\n",
    "        # If axref is exactly the same as xref, then the text's position is\n",
    "        # absolute and specified in the same coordinates as xref.\n",
    "        axref=\"x domain\",\n",
    "        # The same is the case for yref and ayref, but here the coordinates are data\n",
    "        # coordinates\n",
    "        ayref=\"y domain\",\n",
    "        ax=0,\n",
    "        ay=0,\n",
    "    )\n",
    "\n",
    "    base = 1 if name == col else 0.01\n",
    "\n",
    "    dim.range = [\n",
    "        myround(results_df[name].min(), base),\n",
    "        myround(results_df[name].max(), base),\n",
    "    ]\n",
    "    dim.tickvals = [str(v) for v in np.linspace(dim.range[0], dim.range[1], 6)]\n",
    "\n",
    "\n",
    "fig.update_coloraxes(showscale=False)\n",
    "\n",
    "fig.update_layout(\n",
    "    template=\"simple_white\",\n",
    "    font_family=\"Open Sans\",\n",
    "    font_size=24,\n",
    "    height=600,\n",
    "    width=800,\n",
    "    margin=dict(l=60, r=100, b=20, t=100, pad=4),\n",
    "    # legend=dict(yanchor=\"bottom\", y=1, xanchor=\"right\", x=1, orientation=\"h\")\n",
    ")\n",
    "\n",
    "fig.update_annotations(font=dict(family=\"Open Sans\", size=24))\n",
    "fig.write_html(\"delay.html\", include_plotlyjs=\"cdn\", include_mathjax=\"cdn\")\n",
    "fig.show()\n",
    "# from IPython.display import Image\n",
    "\n",
    "# Image(fig.to_image(format=\"png\", width=800, height=800, scale=2))"
   ]
  },
  {
   "cell_type": "code",
   "execution_count": null,
   "metadata": {},
   "outputs": [],
   "source": [
    "import plotly.express as px\n",
    "from src.plotting.latex import NAME_2_LATEX\n",
    "\n",
    "col = \"total_fuel_l_cropped\"\n",
    "\n",
    "\n",
    "colorscale = [\n",
    "    \"rgba(0, 147, 146, 0)\",\n",
    "    \"rgba(114, 170, 161, 0.2)\",\n",
    "    \"rgba(177, 199, 179, 0.4)\",\n",
    "    \"rgba(241, 234, 200, 0.6)\",\n",
    "    \"rgba(229, 185, 173, 0.8)\",\n",
    "    \"rgba(217, 137, 148, 1)\",\n",
    "    \"rgba(208, 88, 126, 1)\",\n",
    "]\n",
    "\n",
    "most_sensitive = sobol_df.sort(by=f\"{col}_ST\", descending=False)[\"names\"][-4:]\n",
    "# most_sensitive = ['impatience', 'Decel', 'Tau', 'Accel']\n",
    "\n",
    "plot_df = (\n",
    "    results_df.filter(pl.col(col) < pl.col(col).quantile(0.95))\n",
    "    # .filter(\n",
    "    #     pl.col(\"calibration_passed\")\n",
    "    # )\n",
    ")\n",
    "\n",
    "\n",
    "def myround(x, base=5):\n",
    "    return base * round(x / base)\n",
    "\n",
    "\n",
    "fig = px.parallel_coordinates(\n",
    "    plot_df.select([col] + list(most_sensitive)).to_pandas(),\n",
    "    dimensions=list(most_sensitive) + [col],\n",
    "    color=col,\n",
    "    color_continuous_scale=colorscale,\n",
    ")\n",
    "\n",
    "for i, (dim, name) in enumerate(\n",
    "    zip(fig.data[0][\"dimensions\"], list(most_sensitive) + [col])\n",
    "):\n",
    "    try:\n",
    "        label = NAME_2_LATEX[name]\n",
    "        dim.label = \"\"\n",
    "        # dim.label = NAME_2_LATEX[name]\n",
    "    except KeyError:\n",
    "        dim.label = \"\"\n",
    "        label = \"Average<br>Fuel Economy [L]\"\n",
    "\n",
    "    fig.add_annotation(\n",
    "        text=label,\n",
    "        xref=\"x domain\",\n",
    "        yref=\"y domain\",\n",
    "        x=0.25 * i,\n",
    "        y=1.08 if label == \"Average<br>Delay [s]\" else 1.05,\n",
    "        # showarrow=True,\n",
    "        # If axref is exactly the same as xref, then the text's position is\n",
    "        # absolute and specified in the same coordinates as xref.\n",
    "        axref=\"x domain\",\n",
    "        # The same is the case for yref and ayref, but here the coordinates are data\n",
    "        # coordinates\n",
    "        ayref=\"y domain\",\n",
    "        ax=0,\n",
    "        ay=0,\n",
    "    )\n",
    "\n",
    "    base = 0.01 if name == col else 0.01\n",
    "\n",
    "    dim.range = [\n",
    "        myround(plot_df[name].min(), base),\n",
    "        myround(plot_df[name].max(), base),\n",
    "    ]\n",
    "    dim.tickvals = [str(v) for v in np.linspace(dim.range[0], dim.range[1], 6)]\n",
    "\n",
    "\n",
    "fig.update_coloraxes(showscale=False)\n",
    "\n",
    "fig.update_layout(\n",
    "    template=\"simple_white\",\n",
    "    font_family=\"Open Sans\",\n",
    "    font_size=24,\n",
    "    height=600,\n",
    "    width=800,\n",
    "    margin=dict(l=60, r=100, b=20, t=100, pad=4),\n",
    "    # legend=dict(yanchor=\"bottom\", y=1, xanchor=\"right\", x=1, orientation=\"h\")\n",
    ")\n",
    "\n",
    "fig.update_annotations(font=dict(family=\"Open Sans\", size=24))\n",
    "fig.write_html(f\"{col}.html\", include_plotlyjs=\"cdn\", include_mathjax=\"cdn\")\n",
    "fig.show()\n",
    "# from IPython.display import Image\n",
    "\n",
    "# Image(fig.to_image(format=\"png\", width=800, height=800, scale=2))"
   ]
  },
  {
   "cell_type": "code",
   "execution_count": null,
   "metadata": {},
   "outputs": [],
   "source": [
    "results_df.filter(\n",
    "    ((pl.col(\"speedFactor\") - 1.1).abs() < 0.05)\n",
    "    & ((pl.col(\"speedDev\") - pl.col(\"speedDev\").median()).diff() < 0.01)\n",
    ")[\"average_speed\"].describe(percentiles=[0.05, 0.95])"
   ]
  },
  {
   "cell_type": "code",
   "execution_count": null,
   "metadata": {},
   "outputs": [],
   "source": [
    "import plotly.express as px\n",
    "import plotly.graph_objects as go\n",
    "\n",
    "\n",
    "# scatter plot decel vs. total fuel consumption\n",
    "fig = px.scatter(\n",
    "    results_df.filter((pl.col(\"speedFactor\") - 1.15).abs() < 0.05),\n",
    "    x=\"speedDev\",\n",
    "    y=\"average_speed\",\n",
    "    # color=\"calibration_passed\",\n",
    "    # color_continuous_scale=px.colors.diverging.Tealrose,\n",
    ")\n",
    "\n",
    "# add a trace of line with fixed standard deviation of 0.1\n",
    "fig.add_traces(\n",
    "    [\n",
    "        go.Scatter(\n",
    "            x=[0.1, 0.3],\n",
    "            y=[14.38, 14.38],\n",
    "        ),\n",
    "        go.Scatter(\n",
    "            x=[0.1, 0.3],\n",
    "            y=[11.85, 11.85],\n",
    "            fill=\"tonexty\",\n",
    "        ),\n",
    "    ]\n",
    ")\n",
    "\n",
    "\n",
    "fig.show()"
   ]
  },
  {
   "cell_type": "code",
   "execution_count": null,
   "metadata": {},
   "outputs": [],
   "source": [
    "import plotly.express as px\n",
    "import plotly.graph_objects as go\n",
    "\n",
    "\n",
    "# scatter plot decel vs. total fuel consumption\n",
    "fig = px.scatter(\n",
    "    results_df,  # .filter((pl.col(\"speedFactor\") - 1.15).abs() < 0.05),\n",
    "    x=\"impatience\",\n",
    "    y=\"total_fuel_l_cropped\",\n",
    "    # color=\"calibration_passed\",\n",
    "    # color_continuous_scale=px.colors.diverging.Tealrose,\n",
    ")\n",
    "\n",
    "\n",
    "fig.show()"
   ]
  },
  {
   "cell_type": "code",
   "execution_count": null,
   "metadata": {},
   "outputs": [],
   "source": [
    "import plotly.express as px\n",
    "import plotly.graph_objects as go\n",
    "\n",
    "\n",
    "# scatter plot decel vs. total fuel consumption\n",
    "fig = px.scatter(\n",
    "    results_df,  # .filter((pl.col(\"speedFactor\") - 1.15).abs() < 0.05),\n",
    "    x=\"average_delay\",\n",
    "    y=\"total_fuel_l_cropped\",\n",
    "    # color=\"calibration_passed\",\n",
    "    # color_continuous_scale=px.colors.diverging.Tealrose,\n",
    ")\n",
    "\n",
    "\n",
    "fig.show()"
   ]
  },
  {
   "cell_type": "code",
   "execution_count": null,
   "metadata": {},
   "outputs": [],
   "source": [
    "import plotly.express as px\n",
    "import plotly.graph_objects as go\n",
    "\n",
    "\n",
    "# scatter plot decel vs. total fuel consumption\n",
    "fig = px.scatter(\n",
    "    results_df,  # .filter((pl.col(\"speedFactor\") - 1.15).abs() < 0.05),\n",
    "    x=\"BDAE\",\n",
    "    y=\"average_speed\",\n",
    ")\n",
    "\n",
    "\n",
    "fig.show()"
   ]
  },
  {
   "cell_type": "code",
   "execution_count": null,
   "metadata": {},
   "outputs": [],
   "source": [
    "import plotly.express as px\n",
    "import plotly.graph_objects as go\n",
    "\n",
    "\n",
    "# scatter plot decel vs. total fuel consumption\n",
    "fig = px.scatter(\n",
    "    results_df,  # .filter((pl.col(\"speedFactor\") - 1.15).abs() < 0.05),\n",
    "    x=\"impatience\",\n",
    "    y=\"average_delay\",\n",
    "    color=\"cropped_per_vehicle_fuel\",\n",
    "    color_continuous_scale=px.colors.diverging.Tealrose,\n",
    ")\n",
    "\n",
    "\n",
    "fig.show()"
   ]
  },
  {
   "cell_type": "code",
   "execution_count": null,
   "metadata": {},
   "outputs": [],
   "source": [
    "import plotly.express as px\n",
    "import plotly.graph_objects as go\n",
    "\n",
    "\n",
    "# scatter plot decel vs. total fuel consumption\n",
    "fig = px.scatter(\n",
    "    results_df,  # .filter((pl.col(\"speedFactor\") - 1.15).abs() < 0.05),\n",
    "    x=\"Accel\",\n",
    "    y=\"cropped_per_vehicle_fuel\",\n",
    "    color=\"average_delay\",\n",
    "    color_continuous_scale=px.colors.diverging.Tealrose,\n",
    ")\n",
    "\n",
    "\n",
    "fig.show()"
   ]
  },
  {
   "cell_type": "code",
   "execution_count": null,
   "metadata": {},
   "outputs": [],
   "source": [
    "import plotly.express as px\n",
    "import plotly.graph_objects as go\n",
    "\n",
    "\n",
    "# scatter plot decel vs. total fuel consumption\n",
    "fig = px.scatter(\n",
    "    results_df,  # .filter((pl.col(\"speedFactor\") - 1.15).abs() < 0.05),\n",
    "    x=\"Tau\",\n",
    "    y=\"cropped_per_vehicle_fuel\",\n",
    "    color=\"average_delay\",\n",
    "    color_continuous_scale=px.colors.diverging.Tealrose,\n",
    ")\n",
    "\n",
    "\n",
    "fig.show()"
   ]
  },
  {
   "cell_type": "code",
   "execution_count": null,
   "metadata": {},
   "outputs": [],
   "source": [
    "import plotly.express as px\n",
    "import plotly.graph_objects as go\n",
    "\n",
    "\n",
    "# scatter plot decel vs. total fuel consumption\n",
    "fig = px.scatter(\n",
    "    results_df,  # .filter((pl.col(\"speedFactor\") - 1.15).abs() < 0.05),\n",
    "    x=\"Accel\",\n",
    "    y=\"BDAE\",\n",
    "    # color=\"average_delay\",\n",
    "    color_continuous_scale=px.colors.diverging.Tealrose,\n",
    ")\n",
    "\n",
    "\n",
    "fig.show()"
   ]
  },
  {
   "cell_type": "code",
   "execution_count": null,
   "metadata": {},
   "outputs": [],
   "source": [
    "px.density_heatmap(\n",
    "    results_df.to_pandas(),\n",
    "    x=\"speedDev\",\n",
    "    y=\"speedFactor\",\n",
    "    z=\"cropped_per_vehicle_fuel\",\n",
    "    histfunc=\"avg\",\n",
    ")"
   ]
  },
  {
   "cell_type": "code",
   "execution_count": null,
   "metadata": {},
   "outputs": [],
   "source": [
    "results_df[\n",
    "    [\n",
    "        \"average_speed\",\n",
    "        \"speedFactor\",\n",
    "        \"speedDev\",\n",
    "        \"cropped_per_vehicle_fuel\",\n",
    "        \"impatience\",\n",
    "        \"BDAE\"\n",
    "    ]\n",
    "].corr()"
   ]
  },
  {
   "cell_type": "code",
   "execution_count": null,
   "metadata": {},
   "outputs": [],
   "source": [
    "import plotly.graph_objects as go\n",
    "\n",
    "col = \"average_travel_time_ST\"\n",
    "\n",
    "sobol_df = sobol_df.sort(\n",
    "    col,\n",
    ")\n",
    "\n",
    "fig = go.Figure(\n",
    "    data=[\n",
    "        go.Bar(\n",
    "            name=col,\n",
    "            y=sobol_df[\"names\"],\n",
    "            x=sobol_df[col],\n",
    "            orientation=\"h\",\n",
    "            marker=dict(\n",
    "                color=\"rgba(0, 0, 0, 0.4)\",\n",
    "                line=dict(color=\"rgba(0, 0, 0, 1.0)\", width=2),\n",
    "                pattern_shape=\"x\",\n",
    "            ),\n",
    "        )\n",
    "    ]\n",
    ")\n",
    "\n",
    "fig.update_layout(\n",
    "    yaxis=dict(\n",
    "        # dtick=0.1, tickangle=45,\n",
    "        showgrid=True,\n",
    "        tickvals=sobol_df[\"names\"],\n",
    "        minor_showgrid=True,\n",
    "    ),\n",
    ")\n",
    "\n",
    "\n",
    "fig.show()"
   ]
  },
  {
   "cell_type": "code",
   "execution_count": null,
   "metadata": {},
   "outputs": [],
   "source": [
    "import plotly.graph_objects as go\n",
    "\n",
    "col = \"total_fuel_l_cropped_ST\"\n",
    "\n",
    "sobol_df = sobol_df.sort(\n",
    "    col,\n",
    ")\n",
    "\n",
    "fig = go.Figure(\n",
    "    data=[\n",
    "        go.Bar(\n",
    "            name=col,\n",
    "            y=sobol_df[\"names\"],\n",
    "            x=sobol_df[col],\n",
    "            orientation=\"h\",\n",
    "            marker=dict(\n",
    "                color=\"rgba(0, 0, 0, 0.4)\",\n",
    "                line=dict(color=\"rgba(0, 0, 0, 1.0)\", width=2),\n",
    "                pattern_shape=\"x\",\n",
    "            ),\n",
    "        )\n",
    "    ]\n",
    ")\n",
    "\n",
    "fig.update_layout(\n",
    "    yaxis=dict(\n",
    "        # dtick=0.1, tickangle=45,\n",
    "        showgrid=True,\n",
    "        tickvals=sobol_df[\"names\"],\n",
    "        minor_showgrid=True,\n",
    "    ),\n",
    ")\n",
    "\n",
    "\n",
    "fig.show()"
   ]
  },
  {
   "cell_type": "markdown",
   "metadata": {},
   "source": [
    "## Parallel Coordinates Plot of Sensitivity Analysis"
   ]
  },
  {
   "cell_type": "code",
   "execution_count": null,
   "metadata": {},
   "outputs": [],
   "source": []
  },
  {
   "cell_type": "markdown",
   "metadata": {},
   "source": [
    "## Distribution of Outputs"
   ]
  },
  {
   "cell_type": "code",
   "execution_count": null,
   "metadata": {},
   "outputs": [],
   "source": [
    "results_df[\"total_fuel_l_cropped\"].skew(), results_df[\"total_fuel_l_cropped\"].kurtosis()"
   ]
  },
  {
   "cell_type": "code",
   "execution_count": null,
   "metadata": {},
   "outputs": [],
   "source": [
    "results_df[\"average_travel_time\"].skew(), results_df[\"average_travel_time\"].kurtosis()"
   ]
  },
  {
   "cell_type": "code",
   "execution_count": null,
   "metadata": {},
   "outputs": [],
   "source": [
    "results_df[\"delay_ratio\"].skew(), results_df[\"delay_ratio\"].kurtosis()"
   ]
  },
  {
   "cell_type": "code",
   "execution_count": null,
   "metadata": {},
   "outputs": [],
   "source": [
    "from src.plotting.bar import plot_ecdfs\n",
    "\n",
    "\n",
    "def open_res_df(path):\n",
    "    return (\n",
    "        pl.read_parquet(path / \"results.parquet\")\n",
    "        .with_columns(\n",
    "            total_fuel_l_cropped=pl.col(\"total_energy\")\n",
    "            / SUMO_GASOLINE_GRAM_TO_JOULE\n",
    "            / SUMO_GASOLINE_GRAM_PER_LITER\n",
    "        )\n",
    "        .with_columns(\n",
    "            cropped_per_vehicle_fuel=pl.col(\"total_fuel_l_cropped\")\n",
    "            / pl.col(\"total_vehicles_emissions\")\n",
    "        )\n",
    "    )\n",
    "\n",
    "\n",
    "fig = plot_ecdfs(\n",
    "    results_df=results_df,\n",
    "    plot_columns=[\n",
    "        \"total_fuel_l_cropped\",\n",
    "        \"average_travel_time\",\n",
    "        \"average_delay\",\n",
    "        \"delay_ratio\",\n",
    "    ],\n",
    "    pretty_columns=[\n",
    "        \"Total Fuel Consumption [L]\",\n",
    "        \"Average Travel Time [s]\",\n",
    "        \"Average Delay [s]\",\n",
    "        \"Ratio of Delay\",\n",
    "    ],\n",
    "    paper_mapping={\n",
    "        \"Paper 1\": (open_res_df(shanghai_paper_res), \"rgba(229, 185, 173, 1)\"),\n",
    "        \"Paper 2\": (open_res_df(corr_paper_res), \"rgba(0, 147, 146, 1)\"),\n",
    "        \"SUMO Defaults\": (open_res_df(sumo_default_res), \"rgba(208, 88, 126, 1)\"),\n",
    "    },\n",
    ")\n",
    "\n",
    "fig.show()"
   ]
  },
  {
   "cell_type": "code",
   "execution_count": null,
   "metadata": {},
   "outputs": [],
   "source": [
    "failure_df = results_df.filter(~pl.col(\"calibration_passed\"))\n",
    "pass_df = results_df.filter(pl.col(\"calibration_passed\"))"
   ]
  },
  {
   "cell_type": "code",
   "execution_count": null,
   "metadata": {},
   "outputs": [],
   "source": [
    "import scipy.stats as stats\n",
    "\n",
    "stats.ks_2samp(failure_df[\"average_delay\"], pass_df[\"average_delay\"])"
   ]
  },
  {
   "cell_type": "code",
   "execution_count": null,
   "metadata": {},
   "outputs": [],
   "source": [
    "stats.ks_2samp(failure_df[\"total_fuel_l_cropped\"], pass_df[\"total_fuel_l_cropped\"])"
   ]
  },
  {
   "cell_type": "code",
   "execution_count": null,
   "metadata": {},
   "outputs": [],
   "source": [
    "stats.ks_2samp(failure_df[\"average_travel_time\"], pass_df[\"average_travel_time\"])"
   ]
  },
  {
   "cell_type": "code",
   "execution_count": null,
   "metadata": {},
   "outputs": [],
   "source": [
    "# test to see if the failure_df is statistically different from the success_df\n",
    "import scipy.stats as stats\n",
    "\n",
    "stats.ks_2samp(failure_df[\"average_delay\"], pass_df[\"average_delay\"])\n",
    "\n",
    "# plot the two\n",
    "fig = plot_ecdfs(\n",
    "    plot_columns=[\n",
    "        \"total_fuel_l_cropped\",\n",
    "        \"average_travel_time\",\n",
    "        \"average_delay\",\n",
    "        \"delay_ratio\",\n",
    "    ],\n",
    "    pretty_columns=[\n",
    "        \"Total Fuel Consumption [L]\",\n",
    "        \"Average Travel Time [s]\",\n",
    "        \"Average Delay [s]\",\n",
    "        \"Ratio of Delay\",\n",
    "    ],\n",
    "    ecdf_mapping={\n",
    "        \"Passed\": (pass_df, \"rgba(0, 147, 146, 1)\"),\n",
    "        \"Failed\": (failure_df, \"rgba(229, 185, 173, 1)\"),\n",
    "    },\n",
    ")\n",
    "\n",
    "fig.show()"
   ]
  }
 ],
 "metadata": {
  "kernelspec": {
   "display_name": "sumo-sim",
   "language": "python",
   "name": "python3"
  },
  "language_info": {
   "codemirror_mode": {
    "name": "ipython",
    "version": 3
   },
   "file_extension": ".py",
   "mimetype": "text/x-python",
   "name": "python",
   "nbconvert_exporter": "python",
   "pygments_lexer": "ipython3",
   "version": "3.9.18"
  }
 },
 "nbformat": 4,
 "nbformat_minor": 2
}
