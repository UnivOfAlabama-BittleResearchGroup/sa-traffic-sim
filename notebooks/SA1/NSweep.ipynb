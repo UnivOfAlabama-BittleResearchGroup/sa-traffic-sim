{
 "cells": [
  {
   "cell_type": "code",
   "execution_count": null,
   "metadata": {},
   "outputs": [],
   "source": [
    "%load_ext autoreload\n",
    "%autoreload 2"
   ]
  },
  {
   "cell_type": "markdown",
   "metadata": {},
   "source": [
    "# Processing Sensitivity Analysis Outputs"
   ]
  },
  {
   "cell_type": "code",
   "execution_count": null,
   "metadata": {},
   "outputs": [],
   "source": [
    "import os\n",
    "from pathlib import Path\n",
    "\n",
    "\n",
    "ROOT = Path(os.getcwd()).parent\n",
    "while not ROOT.joinpath(\".git\").exists():\n",
    "    ROOT = ROOT.parent\n",
    "\n",
    "# add the root to the python path\n",
    "import sys\n",
    "import dotenv\n",
    "from omegaconf import OmegaConf\n",
    "\n",
    "sys.path.append(str(ROOT))\n",
    "\n",
    "# load the environment variables\n",
    "dotenv.load_dotenv(ROOT.joinpath(\".env\"))"
   ]
  },
  {
   "cell_type": "code",
   "execution_count": null,
   "metadata": {},
   "outputs": [],
   "source": [
    "import polars as pl\n",
    "\n",
    "from sumo_pipelines.utils.config_helpers import (\n",
    "    create_custom_resolvers,\n",
    ")\n",
    "from sumo_pipelines.utils.file_helpers import walk_directory\n",
    "\n",
    "create_custom_resolvers()"
   ]
  },
  {
   "cell_type": "markdown",
   "metadata": {},
   "source": [
    "## Load All Results Files"
   ]
  },
  {
   "cell_type": "code",
   "execution_count": null,
   "metadata": {},
   "outputs": [],
   "source": [
    "regex_pattern = \"tmp/SobolSensitivityAnalysisCars-*/**/results.parquet\""
   ]
  },
  {
   "cell_type": "code",
   "execution_count": null,
   "metadata": {},
   "outputs": [],
   "source": [
    "results_df = []\n",
    "for file_ in ROOT.glob(regex_pattern):\n",
    "    print(file_)\n",
    "    df = pl.read_parquet(file_)\n",
    "\n",
    "    # read config\n",
    "    config_file = file_.parent / \"0\" / \"config.yaml\"\n",
    "    config = OmegaConf.load(config_file)\n",
    "\n",
    "    df = df.with_columns(N=pl.lit(config.Blocks.SobolSequenceConfig.N))\n",
    "\n",
    "    sample_df = pl.read_parquet(file_.parent / \"sobol_sequence.parquet\").with_row_count(\n",
    "        \"run_id\"\n",
    "    )\n",
    "\n",
    "    results_df.append(df.join(sample_df, on=\"run_id\"))\n",
    "\n",
    "results_df = pl.concat(results_df)\n",
    "repr_conf = config"
   ]
  },
  {
   "cell_type": "code",
   "execution_count": null,
   "metadata": {},
   "outputs": [],
   "source": [
    "from src.sa_helpers.metrics import (\n",
    "    SUMO_GASOLINE_GRAM_PER_LITER,\n",
    "    SUMO_GASOLINE_GRAM_TO_JOULE,\n",
    ")\n",
    "\n",
    "results_df = results_df.with_columns(\n",
    "    total_fuel_l_cropped=pl.col(\"total_energy\")\n",
    "    / SUMO_GASOLINE_GRAM_TO_JOULE\n",
    "    / SUMO_GASOLINE_GRAM_PER_LITER\n",
    ").with_columns(\n",
    "    cropped_per_vehicle_fuel=pl.col(\"total_fuel_l_cropped\")\n",
    "    / pl.col(\"total_vehicles_emissions\")\n",
    ")"
   ]
  },
  {
   "cell_type": "code",
   "execution_count": null,
   "metadata": {},
   "outputs": [],
   "source": [
    "results_df.filter(\n",
    "    pl.col('N') == 2048\n",
    ")"
   ]
  },
  {
   "cell_type": "markdown",
   "metadata": {},
   "source": [
    "## Perform Sobol Analysis"
   ]
  },
  {
   "cell_type": "code",
   "execution_count": null,
   "metadata": {},
   "outputs": [],
   "source": [
    "from SALib.analyze import sobol\n",
    "from SALib.sample import sobol as sobol_sample\n",
    "from sumo_pipelines.blocks.producers.config import SobolSequenceConfig"
   ]
  },
  {
   "cell_type": "code",
   "execution_count": null,
   "metadata": {},
   "outputs": [],
   "source": [
    "problem = SobolSequenceConfig.build_sobol_dict(repr_conf.Blocks.SobolSequenceConfig)\n",
    "second_order = repr_conf.Blocks.SobolSequenceConfig.calc_second_order\n",
    "\n",
    "\n",
    "def get_sa_results(r_df, problem, column, second_order=False):\n",
    "    return sobol.analyze(\n",
    "        problem,\n",
    "        r_df[column].to_numpy(),\n",
    "        calc_second_order=second_order,\n",
    "        seed=repr_conf.Metadata.random_seed,\n",
    "    )\n",
    "\n",
    "\n",
    "def get_sa_results_df(results_df, problem, columns, second_order=False):\n",
    "    for n, n_df in results_df.group_by(\"N\"):\n",
    "        sa_results = {}\n",
    "        for column in columns:\n",
    "            sa_results[column] = get_sa_results(n_df, problem, column, second_order)\n",
    "\n",
    "        sobol_df = pl.DataFrame(\n",
    "            {\n",
    "                \"N\": [n for _ in range(len(problem[\"names\"]))],\n",
    "                \"names\": problem[\"names\"],\n",
    "                **{\n",
    "                    f\"{col}_{sa_type}\": sa_results[col][sa_type]\n",
    "                    for col in columns\n",
    "                    for sa_type in [\"S1\", \"ST\", \"S1_conf\", \"ST_conf\"]\n",
    "                },\n",
    "            }\n",
    "        )\n",
    "\n",
    "        yield sobol_df"
   ]
  },
  {
   "cell_type": "code",
   "execution_count": null,
   "metadata": {},
   "outputs": [],
   "source": [
    "target_cols = set(results_df.columns).intersection(\n",
    "    set(repr_conf.Pipeline.pipeline[0].consumers[8].config.keys())\n",
    ") | set(\n",
    "    [\n",
    "        \"cropped_per_vehicle_fuel\",\n",
    "        \"total_fuel_l_cropped\",\n",
    "    ]\n",
    ")\n",
    "\n",
    "sobol_df = pl.concat(\n",
    "    get_sa_results_df(results_df, problem, target_cols, second_order=second_order)\n",
    ")"
   ]
  },
  {
   "cell_type": "code",
   "execution_count": null,
   "metadata": {},
   "outputs": [],
   "source": [
    "from src.plotting.bar import plot_si_v_n\n",
    "\n",
    "fig = plot_si_v_n(\n",
    "    sobol_df.with_columns(\n",
    "        pl.col(\"N\") * (problem[\"num_vars\"] + 2),\n",
    "    ),\n",
    "    plot_variables=[\"Accel\", \"Decel\", \"Tau\", \"speedFactor\"],\n",
    "    plot_columns=[\n",
    "        \"cropped_per_vehicle_fuel_ST\",\n",
    "        \"average_travel_time_ST\",\n",
    "        \"average_delay_ST\",\n",
    "        \"delay_ratio_ST\",\n",
    "    ],\n",
    "    pretty_columns=[\n",
    "        \"Fuel Consumption\",\n",
    "        \"Travel Time\",\n",
    "        \"Delay\",\n",
    "        \"Delay Ratio\",\n",
    "    ],\n",
    ")\n",
    "\n",
    "img = fig.to_image(format=\"png\", scale=2, width=800, height=800)\n",
    "from IPython.display import Image\n",
    "\n",
    "Image(img)\n"
   ]
  },
  {
   "cell_type": "markdown",
   "metadata": {},
   "source": []
  }
 ],
 "metadata": {
  "kernelspec": {
   "display_name": "sumo-sim",
   "language": "python",
   "name": "python3"
  },
  "language_info": {
   "codemirror_mode": {
    "name": "ipython",
    "version": 3
   },
   "file_extension": ".py",
   "mimetype": "text/x-python",
   "name": "python",
   "nbconvert_exporter": "python",
   "pygments_lexer": "ipython3",
   "version": "3.9.18"
  }
 },
 "nbformat": 4,
 "nbformat_minor": 2
}
